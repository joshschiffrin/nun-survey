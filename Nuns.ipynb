{
 "cells": [
  {
   "cell_type": "code",
   "execution_count": 1,
   "metadata": {
    "collapsed": true
   },
   "outputs": [],
   "source": [
    "import numpy as np\n",
    "import pandas as pd\n",
    "import matplotlib.pyplot as plt\n",
    "import seaborn as sns\n",
    "%matplotlib inline\n",
    "sns.set(style='whitegrid')"
   ]
  },
  {
   "cell_type": "code",
   "execution_count": 2,
   "metadata": {
    "collapsed": true
   },
   "outputs": [],
   "source": [
    "# read the data\n",
    "df = pd.read_csv('sisters67.csv')\n",
    "df.drop(['sister','year'],axis=1,inplace=True)"
   ]
  },
  {
   "cell_type": "code",
   "execution_count": 3,
   "metadata": {
    "collapsed": true
   },
   "outputs": [],
   "source": [
    "# get the questions\n",
    "questionlist = pd.read_csv('nunquestions.txt',sep='\\n')\n",
    "questionlist = questionlist[\n",
    "    questionlist['Sisters Survey 1967: Questions and Responses'].apply(lambda s: s.startswith('v'))].reset_index()\n",
    "questionlist.drop('index',axis=1,inplace=True)\n",
    "questionlist['v'] = questionlist['Sisters Survey 1967: Questions and Responses'].apply(lambda s: s.split('\\t')[0])\n",
    "questionlist['question'] = questionlist['Sisters Survey 1967: Questions and Responses'].apply(lambda s: s.split('\\t')[1])\n",
    "questionlist.drop('Sisters Survey 1967: Questions and Responses',axis=1,inplace=True)"
   ]
  },
  {
   "cell_type": "code",
   "execution_count": 4,
   "metadata": {},
   "outputs": [
    {
     "data": {
      "text/html": [
       "<div>\n",
       "<style>\n",
       "    .dataframe thead tr:only-child th {\n",
       "        text-align: right;\n",
       "    }\n",
       "\n",
       "    .dataframe thead th {\n",
       "        text-align: left;\n",
       "    }\n",
       "\n",
       "    .dataframe tbody tr th {\n",
       "        vertical-align: top;\n",
       "    }\n",
       "</style>\n",
       "<table border=\"1\" class=\"dataframe\">\n",
       "  <thead>\n",
       "    <tr style=\"text-align: right;\">\n",
       "      <th></th>\n",
       "      <th>v181</th>\n",
       "      <th>v117</th>\n",
       "      <th>v120</th>\n",
       "      <th>v123</th>\n",
       "      <th>v126</th>\n",
       "      <th>v138</th>\n",
       "      <th>v141</th>\n",
       "      <th>age group</th>\n",
       "      <th>level of racist attitide (1-5)</th>\n",
       "      <th>level of anti-semitic attitude (1-5)</th>\n",
       "    </tr>\n",
       "  </thead>\n",
       "  <tbody>\n",
       "    <tr>\n",
       "      <th>0</th>\n",
       "      <td>5.0</td>\n",
       "      <td>1.0</td>\n",
       "      <td>1.0</td>\n",
       "      <td>5.0</td>\n",
       "      <td>1.0</td>\n",
       "      <td>1.0</td>\n",
       "      <td>5.0</td>\n",
       "      <td>51-60</td>\n",
       "      <td>1.00</td>\n",
       "      <td>1.0</td>\n",
       "    </tr>\n",
       "    <tr>\n",
       "      <th>1</th>\n",
       "      <td>6.0</td>\n",
       "      <td>2.0</td>\n",
       "      <td>1.0</td>\n",
       "      <td>5.0</td>\n",
       "      <td>4.0</td>\n",
       "      <td>3.0</td>\n",
       "      <td>5.0</td>\n",
       "      <td>61-70</td>\n",
       "      <td>2.00</td>\n",
       "      <td>2.0</td>\n",
       "    </tr>\n",
       "    <tr>\n",
       "      <th>2</th>\n",
       "      <td>5.0</td>\n",
       "      <td>1.0</td>\n",
       "      <td>2.0</td>\n",
       "      <td>1.0</td>\n",
       "      <td>1.0</td>\n",
       "      <td>1.0</td>\n",
       "      <td>5.0</td>\n",
       "      <td>51-60</td>\n",
       "      <td>2.25</td>\n",
       "      <td>1.0</td>\n",
       "    </tr>\n",
       "    <tr>\n",
       "      <th>3</th>\n",
       "      <td>5.0</td>\n",
       "      <td>1.0</td>\n",
       "      <td>1.0</td>\n",
       "      <td>3.0</td>\n",
       "      <td>1.0</td>\n",
       "      <td>1.0</td>\n",
       "      <td>5.0</td>\n",
       "      <td>51-60</td>\n",
       "      <td>1.50</td>\n",
       "      <td>1.0</td>\n",
       "    </tr>\n",
       "    <tr>\n",
       "      <th>4</th>\n",
       "      <td>4.0</td>\n",
       "      <td>3.0</td>\n",
       "      <td>2.0</td>\n",
       "      <td>5.0</td>\n",
       "      <td>5.0</td>\n",
       "      <td>3.0</td>\n",
       "      <td>5.0</td>\n",
       "      <td>41-50</td>\n",
       "      <td>2.75</td>\n",
       "      <td>2.0</td>\n",
       "    </tr>\n",
       "  </tbody>\n",
       "</table>\n",
       "</div>"
      ],
      "text/plain": [
       "   v181  v117  v120  v123  v126  v138  v141 age group  \\\n",
       "0   5.0   1.0   1.0   5.0   1.0   1.0   5.0     51-60   \n",
       "1   6.0   2.0   1.0   5.0   4.0   3.0   5.0     61-70   \n",
       "2   5.0   1.0   2.0   1.0   1.0   1.0   5.0     51-60   \n",
       "3   5.0   1.0   1.0   3.0   1.0   1.0   5.0     51-60   \n",
       "4   4.0   3.0   2.0   5.0   5.0   3.0   5.0     41-50   \n",
       "\n",
       "   level of racist attitide (1-5)  level of anti-semitic attitude (1-5)  \n",
       "0                            1.00                                   1.0  \n",
       "1                            2.00                                   2.0  \n",
       "2                            2.25                                   1.0  \n",
       "3                            1.50                                   1.0  \n",
       "4                            2.75                                   2.0  "
      ]
     },
     "execution_count": 4,
     "metadata": {},
     "output_type": "execute_result"
    }
   ],
   "source": [
    "# aggregate the racism questions and the anti-semitism questions (reordering answers if necessary)\n",
    "reverse={1:5,2:4,3:3,4:2,5:1}\n",
    "age = {1:'20 and under',2:'21-30',3:'31-40',4:'41-50',5:'51-60',6:'61-70',7:'71-80',8:'81-90',9:'90 and older'} \n",
    "\n",
    "age_racist_antsemite = df[['v181','v117','v120','v123','v126','v138','v141']].dropna()\n",
    "age_racist_antsemite['age group'] = age_racist_antsemite['v181'].apply(lambda x: age[x])\n",
    "age_racist_antsemite['level of racist attitide (1-5)'] = (age_racist_antsemite['v117'] + age_racist_antsemite['v120'] \n",
    "                                  + age_racist_antsemite['v123'].apply(lambda x: reverse[x]) \n",
    "                                  + age_racist_antsemite['v126'])/4\n",
    "age_racist_antsemite['level of anti-semitic attitude (1-5)'] = (age_racist_antsemite['v138'] \n",
    "                                        + age_racist_antsemite['v141'].apply(lambda x: reverse[x]))/2\n",
    "age_racist_antsemite.head()"
   ]
  },
  {
   "cell_type": "code",
   "execution_count": 5,
   "metadata": {},
   "outputs": [
    {
     "data": {
      "text/plain": [
       "(0.26591112774264236, 0.0)"
      ]
     },
     "execution_count": 5,
     "metadata": {},
     "output_type": "execute_result"
    }
   ],
   "source": [
    "# are the racism and anti-semitism colums correlated?\n",
    "from scipy.stats import pearsonr\n",
    "pearsonr(x=age_racist_antsemite['level of racist attitide (1-5)'],y=age_racist_antsemite['level of anti-semitic attitude (1-5)'])"
   ]
  },
  {
   "cell_type": "code",
   "execution_count": 8,
   "metadata": {},
   "outputs": [
    {
     "data": {
      "text/plain": [
       "<seaborn.axisgrid.FacetGrid at 0x11fe498d0>"
      ]
     },
     "execution_count": 8,
     "metadata": {},
     "output_type": "execute_result"
    },
    {
     "data": {
      "image/png": "[encoded data removed]",
      "text/plain": [
       "<matplotlib.figure.Figure at 0x11fdf8e10>"
      ]
     },
     "metadata": {},
     "output_type": "display_data"
    }
   ],
   "source": [
    "# plot racism vs. age\n",
    "sns.factorplot(x='age group',y='level of racist attitide (1-5)', kind='point', size=5, aspect=2,\n",
    "              data=age_racist_antsemite.sort_values('age group'),join=False,scale=0,errwidth=3,capsize=.2)"
   ]
  },
  {
   "cell_type": "code",
   "execution_count": 9,
   "metadata": {},
   "outputs": [
    {
     "data": {
      "text/plain": [
       "<seaborn.axisgrid.FacetGrid at 0x1219badd8>"
      ]
     },
     "execution_count": 9,
     "metadata": {},
     "output_type": "execute_result"
    },
    {
     "data": {
      "image/png": "[encoded data removed]",
      "text/plain": [
       "<matplotlib.figure.Figure at 0x11fe460f0>"
      ]
     },
     "metadata": {},
     "output_type": "display_data"
    }
   ],
   "source": [
    "# plot anti-semitism vs. age\n",
    "sns.factorplot(x='age group',y='level of anti-semitic attitude (1-5)', kind='point', size=5, aspect=2,\n",
    "              data=age_racist_antsemite.sort_values('age group'),join=False,scale=0,errwidth=3,capsize=.2)"
   ]
  },
  {
   "cell_type": "code",
   "execution_count": 7,
   "metadata": {},
   "outputs": [
    {
     "data": {
      "text/plain": [
       "<matplotlib.axes._subplots.AxesSubplot at 0x10bd5d1d0>"
      ]
     },
     "execution_count": 7,
     "metadata": {},
     "output_type": "execute_result"
    },
    {
     "data": {
      "image/png": "[encoded data removed]",
      "text/plain": [
       "<matplotlib.figure.Figure at 0x116f592b0>"
      ]
     },
     "metadata": {},
     "output_type": "display_data"
    }
   ],
   "source": [
    "# plot anti-semitism vs. racism\n",
    "plt.figure(figsize=(12,6))\n",
    "sns.pointplot(x='level of racist attitide (1-5)',y='level of anti-semitic attitude (1-5)',\n",
    "              data=age_racist_antsemite,join=False,scale=0,errwidth=3,capsize=.2)"
   ]
  },
  {
   "cell_type": "code",
   "execution_count": null,
   "metadata": {
    "collapsed": true
   },
   "outputs": [],
   "source": []
  }
 ],
 "metadata": {
  "kernelspec": {
   "display_name": "Python 3",
   "language": "python",
   "name": "python3"
  },
  "language_info": {
   "codemirror_mode": {
    "name": "ipython",
    "version": 3
   },
   "file_extension": ".py",
   "mimetype": "text/x-python",
   "name": "python",
   "nbconvert_exporter": "python",
   "pygments_lexer": "ipython3",
   "version": "3.6.1"
  }
 },
 "nbformat": 4,
 "nbformat_minor": 2
}
